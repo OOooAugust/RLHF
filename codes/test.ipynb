{
 "cells": [
  {
   "cell_type": "code",
   "execution_count": 1,
   "id": "679972cb",
   "metadata": {},
   "outputs": [
    {
     "data": {
      "application/vnd.jupyter.widget-view+json": {
       "model_id": "3c4d297998534c91a0ef4e81bf91e49a",
       "version_major": 2,
       "version_minor": 0
      },
      "text/plain": [
       "Map:   0%|          | 0/25000 [00:00<?, ? examples/s]"
      ]
     },
     "metadata": {},
     "output_type": "display_data"
    }
   ],
   "source": [
    "import subprocess\n",
    "import os\n",
    "import torch\n",
    "from transformers import AutoModelForCausalLM, AutoTokenizer, AutoModelForSequenceClassification, pipeline\n",
    "from datasets import load_dataset, Dataset\n",
    "from torch.utils.data import DataLoader\n",
    "import torch.nn.functional as F\n",
    "import logging\n",
    "import numpy as np\n",
    "from trl import DPOTrainer, DPOConfig, ModelConfig,get_quantization_config,get_kbit_device_map\n",
    "\n",
    "# Load environment variables from /etc/network_turbo\n",
    "result = subprocess.run('bash -c \"source /etc/network_turbo && env | grep proxy\"', shell=True, capture_output=True, text=True)\n",
    "output = result.stdout\n",
    "for line in output.splitlines():\n",
    "    if '=' in line:\n",
    "        var, value = line.split('=', 1)\n",
    "        os.environ[var] = value\n",
    "\n",
    "# Set the model path of qwen sft AND sentiment model\n",
    "LM_MODEL = \"august66/qwen2-sft-final\"\n",
    "SENTIMENT_MODEL = \"siebert/sentiment-roberta-large-english\"\n",
    "N_PREFIX_TOKENS = 5\n",
    "\n",
    "\n",
    "#load dataset\n",
    "dataset_test = load_dataset(\"stanfordnlp/imdb\", split=\"test\")\n",
    "dataset_train = load_dataset(\"stanfordnlp/imdb\", split=\"train\")\n",
    "def prompt_completion_preprocess(example):\n",
    "    words = example['text'].split()\n",
    "    prompt = ' '.join(words[:N_PREFIX_TOKENS])\n",
    "    completion = ' '.join(words[N_PREFIX_TOKENS:])\n",
    "    return {'prompt': prompt, 'completion': completion}\n",
    "dataset_test = dataset_test.map(prompt_completion_preprocess, remove_columns=['text', 'label'])\n",
    "dataset_train = dataset_train.map(prompt_completion_preprocess, remove_columns=['text', 'label'])\n",
    "\n",
    "\n",
    "\n",
    "\n"
   ]
  },
  {
   "cell_type": "code",
   "execution_count": null,
   "id": "04bcbd5a",
   "metadata": {},
   "outputs": [
    {
     "name": "stderr",
     "output_type": "stream",
     "text": [
      "Device set to use cuda:0\n"
     ]
    }
   ],
   "source": [
    "qwen_sft_model = AutoModelForCausalLM.from_pretrained(LM_MODEL)\n",
    "qwen_sft_tokenizer = AutoTokenizer.from_pretrained(LM_MODEL)\n",
    "qwen_sft_tokenizer.padding_side = \"left\"\n",
    "qwen_sft_tokenizer.add_special_tokens({'pad_token': '[PAD]'})\n",
    "pipe_qwen_sft = pipeline(\n",
    "    'text-generation',\n",
    "    model = qwen_sft_model,\n",
    "    tokenizer = qwen_sft_tokenizer,\n",
    "    device_map = 'auto'\n",
    ")\n",
    "prompts_train = dataset_train['prompt']\n",
    "generated_completions_train = pipe_qwen_sft(\n",
    "    prompts_train,\n",
    "    max_new_tokens = 128,\n",
    "    do_sample = True,\n",
    "    truncation = True,\n",
    "    padding = True,\n",
    "    top_p = 0.95,\n",
    "    temperature = 1,\n",
    "    num_return_sequences = 2,\n",
    "    batch_size = 128,\n",
    ")\n"
   ]
  },
  {
   "cell_type": "code",
   "execution_count": 3,
   "id": "8538b13d",
   "metadata": {},
   "outputs": [
    {
     "name": "stderr",
     "output_type": "stream",
     "text": [
      "Device set to use cuda:0\n"
     ]
    }
   ],
   "source": [
    "generated_completions_train_flat = Dataset.from_list(list(np.array(generated_completions_train).ravel()))\n",
    "\n",
    "pipe_sentiment = pipeline(\n",
    "    'sentiment-analysis',\n",
    "    model = SENTIMENT_MODEL,\n",
    ")\n",
    "\n",
    "train_sentiment_results = pipe_sentiment(\n",
    "    generated_completions_train_flat['generated_text'],\n",
    "    batch_size = 128,\n",
    ")"
   ]
  },
  {
   "cell_type": "code",
   "execution_count": 4,
   "id": "4ae1e6f1",
   "metadata": {},
   "outputs": [
    {
     "name": "stderr",
     "output_type": "stream",
     "text": [
      "/tmp/ipykernel_1878/1673934790.py:12: UserWarning: Implicit dimension choice for softmax has been deprecated. Change the call to include dim=X as an argument.\n",
      "  preference_prob = F.softmax(torch.tensor(reward_1-reward_2))\n"
     ]
    }
   ],
   "source": [
    "N = len(dataset_test)\n",
    "prompt_completion_list_train = []\n",
    "for i in range(N):\n",
    "\n",
    "    prompt = dataset_train[i]['prompt']\n",
    "    completion_1 = generated_completions_train_flat[2*i]['generated_text']\n",
    "    score_1 = train_sentiment_results[2*i]['score'] if train_sentiment_results[2*i]['score'] == 'POSITIVE' else 1-train_sentiment_results[2*i]['score']\n",
    "    completion_2 = generated_completions_train_flat[2*i + 1]['generated_text']\n",
    "    score_2 = train_sentiment_results[2*i + 1]['score'] if train_sentiment_results[2*i + 1]['score'] == 'POSITIVE' else 1-train_sentiment_results[2*i + 1]['score']\n",
    "    reward_1 = score_1 * 1000\n",
    "    reward_2 = score_2 * 1000\n",
    "    preference_prob = F.softmax(torch.tensor(reward_1-reward_2))\n",
    "    bernoulli_indicator = torch.bernoulli(preference_prob).item()\n",
    "    if bernoulli_indicator == 1:\n",
    "        chosen, rejected = completion_1, completion_2\n",
    "        reward_chosen, reward_rejected = reward_1, reward_2\n",
    "    else:\n",
    "        chosen, rejected = completion_2, completion_1\n",
    "        reward_chosen, reward_rejected = reward_2, reward_1\n",
    "    prompt_completion_list_train.append({\n",
    "        'prompt': prompt,\n",
    "        'chosen': \" \".join(chosen.split()[N_PREFIX_TOKENS:]),\n",
    "        'rejected': \" \".join(rejected.split()[N_PREFIX_TOKENS:]),\n",
    "        'reward_chosen': reward_chosen,\n",
    "        'reward_rejected': reward_rejected\n",
    "    })\n",
    "prompt_completion_dataset_train = Dataset.from_list(prompt_completion_list_train)\n",
    "dpo_dataset_train = prompt_completion_dataset_train.select_columns(['prompt', 'chosen', 'rejected'])\n",
    "    \n"
   ]
  },
  {
   "cell_type": "code",
   "execution_count": 9,
   "id": "1aae1297",
   "metadata": {},
   "outputs": [
    {
     "data": {
      "application/vnd.jupyter.widget-view+json": {
       "model_id": "d43e897f26b64e5988c69d9da0e09b88",
       "version_major": 2,
       "version_minor": 0
      },
      "text/plain": [
       "Extracting prompt in train dataset:   0%|          | 0/25000 [00:00<?, ? examples/s]"
      ]
     },
     "metadata": {},
     "output_type": "display_data"
    },
    {
     "data": {
      "application/vnd.jupyter.widget-view+json": {
       "model_id": "b3cbfabdab8947828451cb7018d5a2cb",
       "version_major": 2,
       "version_minor": 0
      },
      "text/plain": [
       "Applying chat template to train dataset:   0%|          | 0/25000 [00:00<?, ? examples/s]"
      ]
     },
     "metadata": {},
     "output_type": "display_data"
    },
    {
     "data": {
      "application/vnd.jupyter.widget-view+json": {
       "model_id": "8ba8e8f5502447a29163c6aac9d4f7b9",
       "version_major": 2,
       "version_minor": 0
      },
      "text/plain": [
       "Tokenizing train dataset:   0%|          | 0/25000 [00:00<?, ? examples/s]"
      ]
     },
     "metadata": {},
     "output_type": "display_data"
    },
    {
     "data": {
      "text/html": [
       "\n",
       "    <div>\n",
       "      \n",
       "      <progress value='196' max='196' style='width:300px; height:20px; vertical-align: middle;'></progress>\n",
       "      [196/196 25:37, Epoch 1/1]\n",
       "    </div>\n",
       "    <table border=\"1\" class=\"dataframe\">\n",
       "  <thead>\n",
       " <tr style=\"text-align: left;\">\n",
       "      <th>Step</th>\n",
       "      <th>Training Loss</th>\n",
       "    </tr>\n",
       "  </thead>\n",
       "  <tbody>\n",
       "    <tr>\n",
       "      <td>50</td>\n",
       "      <td>0.693200</td>\n",
       "    </tr>\n",
       "    <tr>\n",
       "      <td>100</td>\n",
       "      <td>0.693500</td>\n",
       "    </tr>\n",
       "    <tr>\n",
       "      <td>150</td>\n",
       "      <td>0.694200</td>\n",
       "    </tr>\n",
       "  </tbody>\n",
       "</table><p>"
      ],
      "text/plain": [
       "<IPython.core.display.HTML object>"
      ]
     },
     "metadata": {},
     "output_type": "display_data"
    },
    {
     "data": {
      "text/plain": [
       "TrainOutput(global_step=196, training_loss=0.6917778521167989, metrics={'train_runtime': 1545.2785, 'train_samples_per_second': 16.178, 'train_steps_per_second': 0.127, 'total_flos': 0.0, 'train_loss': 0.6917778521167989, 'epoch': 1.0})"
      ]
     },
     "execution_count": 9,
     "metadata": {},
     "output_type": "execute_result"
    }
   ],
   "source": [
    "#why random sample?\n",
    "#what is gradient checking, gradient acc, learning rate \n",
    "model_args = ModelConfig(LM_MODEL)\n",
    "torch_dtype = (\n",
    "    model_args.torch_dtype if model_args.torch_dtype in ['auto', None] else torch.float16\n",
    ")\n",
    "\n",
    "\n",
    "model_kwargs = dict(\n",
    "    revision = model_args.model_revision,\n",
    "    torch_dtype = torch_dtype,\n",
    "    attn_implementation = model_args.attn_implementation,\n",
    "    trust_remote_code = model_args.trust_remote_code,\n",
    ")\n",
    "\n",
    "model = AutoModelForCausalLM.from_pretrained(\n",
    "    model_args.model_name_or_path,\n",
    "    **model_kwargs\n",
    ") \n",
    "ref_model = AutoModelForCausalLM.from_pretrained(\n",
    "    model_args.model_name_or_path,\n",
    "    **{**model_kwargs, 'device_map':'cpu'}\n",
    ")\n",
    "\n",
    "tokenizer = AutoTokenizer.from_pretrained(\n",
    "    model_args.model_name_or_path,\n",
    "    padding_side = \"left\",\n",
    "    trust_remote_code = model_args.trust_remote_code,\n",
    ")\n",
    "\n",
    "training_args = DPOConfig(\n",
    "\n",
    "        gradient_checkpointing=True,\n",
    "        per_device_train_batch_size=32,\n",
    "        gradient_accumulation_steps=4,\n",
    "        learning_rate=5.0e-7,\n",
    "        logging_steps=50,\n",
    "        num_train_epochs=1,\n",
    "        push_to_hub=False,  \n",
    "        output_dir = \"/root/autodl-tmp/.autodl/DPO_tldr\",\n",
    "        report_to = 'none'\n",
    "    )\n",
    "\n",
    "trainer = DPOTrainer(\n",
    "    model=model,\n",
    "    ref_model=ref_model,\n",
    "    args=training_args,\n",
    "    train_dataset=dpo_dataset_train,\n",
    "    processing_class = tokenizer\n",
    ")\n",
    "\n",
    "trainer.train()\n"
   ]
  },
  {
   "cell_type": "code",
   "execution_count": null,
   "id": "c7cb4442",
   "metadata": {},
   "outputs": [
    {
     "data": {
      "application/vnd.jupyter.widget-view+json": {
       "model_id": "3ce850a4a10346b9bcbf23b3263422be",
       "version_major": 2,
       "version_minor": 0
      },
      "text/plain": [
       "model.safetensors:   0%|          | 0.00/1.98G [00:00<?, ?B/s]"
      ]
     },
     "metadata": {},
     "output_type": "display_data"
    },
    {
     "data": {
      "text/plain": [
       "CommitInfo(commit_url='https://huggingface.co/august66/qwen2-sft-dpo/commit/4263478b54061cb65a94ef1e3148e44e92c0996d', commit_message='Upload Qwen2ForCausalLM', commit_description='', oid='4263478b54061cb65a94ef1e3148e44e92c0996d', pr_url=None, repo_url=RepoUrl('https://huggingface.co/august66/qwen2-sft-dpo', endpoint='https://huggingface.co', repo_type='model', repo_id='august66/qwen2-sft-dpo'), pr_revision=None, pr_num=None)"
      ]
     },
     "execution_count": 11,
     "metadata": {},
     "output_type": "execute_result"
    }
   ],
   "source": [
    "dpo_model = trainer.model\n",
    "dpo_tokenizer = trainer.processing_class\n",
    "repo_id = 'august66/qwen2-sft-dpo'\n",
    "model.push_to_hub(\n",
    "    repo_id=repo_id,\n",
    "    tokenizer=dpo_tokenizer,\n",
    ")"
   ]
  },
  {
   "cell_type": "code",
   "execution_count": null,
   "id": "e233104f",
   "metadata": {},
   "outputs": [
    {
     "name": "stderr",
     "output_type": "stream",
     "text": [
      "Device set to use cuda:0\n",
      "`use_cache=True` is incompatible with gradient checkpointing. Setting `use_cache=False`.\n",
      "/root/miniconda3/lib/python3.12/site-packages/torch/utils/checkpoint.py:86: UserWarning: None of the inputs have requires_grad=True. Gradients will be None\n",
      "  warnings.warn(\n"
     ]
    }
   ],
   "source": [
    "prompts_test = dataset_test['prompt']\n",
    "dpo_pipe = pipeline(\n",
    "    'text-generation',\n",
    "    model = dpo_model,\n",
    "    tokenizer = dpo_tokenizer,\n",
    ")\n",
    "dpo_completions_test = dpo_pipe(\n",
    "    prompts_test,\n",
    "    max_new_tokens = 128,\n",
    "    do_sample = True,\n",
    "    truncation = True,\n",
    "    padding = True,\n",
    "    top_p = 0.95,\n",
    "    temperature = 1,\n",
    "    num_return_sequences = 1,\n",
    "    batch_size = 128,\n",
    ")\n"
   ]
  },
  {
   "cell_type": "code",
   "execution_count": 13,
   "id": "1e84aa16",
   "metadata": {},
   "outputs": [
    {
     "name": "stderr",
     "output_type": "stream",
     "text": [
      "Device set to use cuda:0\n"
     ]
    }
   ],
   "source": [
    "dpo_completion_test_flat= Dataset.from_list(list(np.array(dpo_completions_test).ravel()))\n",
    "pipe = pipeline(\n",
    "    'sentiment-analysis',\n",
    "    model = SENTIMENT_MODEL,\n",
    ")\n",
    "\n",
    "dpo_sentiment_analysis_test = pipe(\n",
    "    dpo_completion_test_flat['generated_text'],\n",
    "    batch_size = 128,\n",
    ")"
   ]
  },
  {
   "cell_type": "code",
   "execution_count": 14,
   "id": "2282d6d6",
   "metadata": {},
   "outputs": [],
   "source": [
    "total_score = 0\n",
    "for i in range(len(dpo_sentiment_analysis_test)):\n",
    "    score = dpo_sentiment_analysis_test[i]['score']\n",
    "    if dpo_sentiment_analysis_test[i]['label'] == 'NEGATIVE':\n",
    "        score = 1 - score\n",
    "    total_score += score\n",
    "average_score = total_score / len(dpo_sentiment_analysis_test)"
   ]
  },
  {
   "cell_type": "code",
   "execution_count": 1,
   "id": "d8813cbb",
   "metadata": {},
   "outputs": [
    {
     "ename": "NameError",
     "evalue": "name 'average_score' is not defined",
     "output_type": "error",
     "traceback": [
      "\u001b[0;31m---------------------------------------------------------------------------\u001b[0m",
      "\u001b[0;31mNameError\u001b[0m                                 Traceback (most recent call last)",
      "Cell \u001b[0;32mIn[1], line 1\u001b[0m\n\u001b[0;32m----> 1\u001b[0m \u001b[43maverage_score\u001b[49m\n",
      "\u001b[0;31mNameError\u001b[0m: name 'average_score' is not defined"
     ]
    }
   ],
   "source": [
    "average_score"
   ]
  },
  {
   "cell_type": "code",
   "execution_count": null,
   "id": "780f4138",
   "metadata": {},
   "outputs": [],
   "source": []
  }
 ],
 "metadata": {
  "kernelspec": {
   "display_name": "base",
   "language": "python",
   "name": "python3"
  },
  "language_info": {
   "codemirror_mode": {
    "name": "ipython",
    "version": 3
   },
   "file_extension": ".py",
   "mimetype": "text/x-python",
   "name": "python",
   "nbconvert_exporter": "python",
   "pygments_lexer": "ipython3",
   "version": "3.12.3"
  }
 },
 "nbformat": 4,
 "nbformat_minor": 5
}
